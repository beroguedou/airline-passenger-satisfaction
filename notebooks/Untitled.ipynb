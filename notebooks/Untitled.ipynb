{
 "cells": [
  {
   "cell_type": "code",
   "execution_count": null,
   "id": "6a1d1481",
   "metadata": {},
   "outputs": [],
   "source": [
    "-   repo: local\n",
    "    hooks:\n",
    "    - id: mypy\n",
    "      name: mypy\n",
    "      entry: \"python -c mypy src\"\n",
    "      language: python\n",
    "      # use your preferred Python version\n",
    "      language_version: python3.10\n",
    "      additional_dependencies: [\"mypy==0.790\"]\n",
    "      types: [python]\n",
    "      require_serial: true\n",
    "      verbose: true"
   ]
  }
 ],
 "metadata": {
  "kernelspec": {
   "display_name": "Python 3 (ipykernel)",
   "language": "python",
   "name": "python3"
  },
  "language_info": {
   "codemirror_mode": {
    "name": "ipython",
    "version": 3
   },
   "file_extension": ".py",
   "mimetype": "text/x-python",
   "name": "python",
   "nbconvert_exporter": "python",
   "pygments_lexer": "ipython3",
   "version": "3.10.10"
  }
 },
 "nbformat": 4,
 "nbformat_minor": 5
}
